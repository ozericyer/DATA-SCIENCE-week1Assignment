{
 "cells": [
  {
   "cell_type": "markdown",
   "metadata": {},
   "source": [
    "#DATA SCIENCE WEEK-1 ASSIGNMENT"
   ]
  },
  {
   "cell_type": "markdown",
   "metadata": {},
   "source": [
    "##soru-1 )Numpy’da Vektor ve Matrisin farkini tek cumle ile ifade ediniz."
   ]
  },
  {
   "cell_type": "markdown",
   "metadata": {},
   "source": [
    "cevap)Vektorler tek boyutludur,matrisler 2 veya daha fazla boyutu vardir"
   ]
  },
  {
   "cell_type": "markdown",
   "metadata": {},
   "source": [
    "soru-2 )10 elemanli bir listeden NumPy Array’i olusturunuz."
   ]
  },
  {
   "cell_type": "code",
   "execution_count": 1,
   "metadata": {},
   "outputs": [],
   "source": [
    "import numpy as np\n",
    "l=[20,21,22,23,24,25,26,27,28,29]\n",
    "a=np.array(l)"
   ]
  },
  {
   "cell_type": "code",
   "execution_count": 2,
   "metadata": {},
   "outputs": [
    {
     "data": {
      "text/plain": [
       "array([20, 21, 22, 23, 24, 25, 26, 27, 28, 29])"
      ]
     },
     "execution_count": 2,
     "metadata": {},
     "output_type": "execute_result"
    }
   ],
   "source": [
    "a"
   ]
  },
  {
   "cell_type": "markdown",
   "metadata": {},
   "source": [
    "soru-3)Icerisinde ‘0’ lar olan, ve veri tipi integer olan 10X10’luk bir matris olusturunuz."
   ]
  },
  {
   "cell_type": "code",
   "execution_count": 3,
   "metadata": {},
   "outputs": [
    {
     "data": {
      "text/plain": [
       "array([[0, 0, 0, 0, 0, 0, 0, 0, 0, 0],\n",
       "       [0, 0, 0, 0, 0, 0, 0, 0, 0, 0],\n",
       "       [0, 0, 0, 0, 0, 0, 0, 0, 0, 0],\n",
       "       [0, 0, 0, 0, 0, 0, 0, 0, 0, 0],\n",
       "       [0, 0, 0, 0, 0, 0, 0, 0, 0, 0],\n",
       "       [0, 0, 0, 0, 0, 0, 0, 0, 0, 0],\n",
       "       [0, 0, 0, 0, 0, 0, 0, 0, 0, 0],\n",
       "       [0, 0, 0, 0, 0, 0, 0, 0, 0, 0],\n",
       "       [0, 0, 0, 0, 0, 0, 0, 0, 0, 0],\n",
       "       [0, 0, 0, 0, 0, 0, 0, 0, 0, 0]])"
      ]
     },
     "execution_count": 3,
     "metadata": {},
     "output_type": "execute_result"
    }
   ],
   "source": [
    "np.zeros((10,10), dtype = 'int32') "
   ]
  },
  {
   "cell_type": "markdown",
   "metadata": {},
   "source": [
    "soru-4)Icerisinde ‘1’ ler olan, veri tipi float olan 10X10’luk bir matris olusturunuz."
   ]
  },
  {
   "cell_type": "code",
   "execution_count": 5,
   "metadata": {},
   "outputs": [
    {
     "data": {
      "text/plain": [
       "array([[1., 1., 1., 1., 1., 1., 1., 1., 1., 1.],\n",
       "       [1., 1., 1., 1., 1., 1., 1., 1., 1., 1.],\n",
       "       [1., 1., 1., 1., 1., 1., 1., 1., 1., 1.],\n",
       "       [1., 1., 1., 1., 1., 1., 1., 1., 1., 1.],\n",
       "       [1., 1., 1., 1., 1., 1., 1., 1., 1., 1.],\n",
       "       [1., 1., 1., 1., 1., 1., 1., 1., 1., 1.],\n",
       "       [1., 1., 1., 1., 1., 1., 1., 1., 1., 1.],\n",
       "       [1., 1., 1., 1., 1., 1., 1., 1., 1., 1.],\n",
       "       [1., 1., 1., 1., 1., 1., 1., 1., 1., 1.],\n",
       "       [1., 1., 1., 1., 1., 1., 1., 1., 1., 1.]], dtype=float32)"
      ]
     },
     "execution_count": 5,
     "metadata": {},
     "output_type": "execute_result"
    }
   ],
   "source": [
    "np.ones((10,10), dtype = 'float32')"
   ]
  },
  {
   "cell_type": "markdown",
   "metadata": {},
   "source": [
    "soru-5)Icerisinde ‘9’ lar olan, veri tipi integer olan 10X10’luk bir matris olusturunuz."
   ]
  },
  {
   "cell_type": "code",
   "execution_count": 6,
   "metadata": {},
   "outputs": [
    {
     "data": {
      "text/plain": [
       "array([[9, 9, 9, 9, 9, 9, 9, 9, 9, 9],\n",
       "       [9, 9, 9, 9, 9, 9, 9, 9, 9, 9],\n",
       "       [9, 9, 9, 9, 9, 9, 9, 9, 9, 9],\n",
       "       [9, 9, 9, 9, 9, 9, 9, 9, 9, 9],\n",
       "       [9, 9, 9, 9, 9, 9, 9, 9, 9, 9],\n",
       "       [9, 9, 9, 9, 9, 9, 9, 9, 9, 9],\n",
       "       [9, 9, 9, 9, 9, 9, 9, 9, 9, 9],\n",
       "       [9, 9, 9, 9, 9, 9, 9, 9, 9, 9],\n",
       "       [9, 9, 9, 9, 9, 9, 9, 9, 9, 9],\n",
       "       [9, 9, 9, 9, 9, 9, 9, 9, 9, 9]])"
      ]
     },
     "execution_count": 6,
     "metadata": {},
     "output_type": "execute_result"
    }
   ],
   "source": [
    "np.full((10,10),9,dtype = 'int32')"
   ]
  },
  {
   "cell_type": "markdown",
   "metadata": {},
   "source": [
    "soru-6)5 ile 25 arasinda, 3’er 3’er atlayan tek boyutlu bir Array olusturunuz."
   ]
  },
  {
   "cell_type": "code",
   "execution_count": 7,
   "metadata": {},
   "outputs": [
    {
     "data": {
      "text/plain": [
       "array([ 5,  8, 11, 14, 17, 20, 23])"
      ]
     },
     "execution_count": 7,
     "metadata": {},
     "output_type": "execute_result"
    }
   ],
   "source": [
    "np.arange(5,25,3)"
   ]
  },
  {
   "cell_type": "markdown",
   "metadata": {},
   "source": [
    "soru-7)-1 ile 1 arasinda 30 adet Array olusturunuz."
   ]
  },
  {
   "cell_type": "code",
   "execution_count": 8,
   "metadata": {},
   "outputs": [
    {
     "data": {
      "text/plain": [
       "array([-1.        , -0.93103448, -0.86206897, -0.79310345, -0.72413793,\n",
       "       -0.65517241, -0.5862069 , -0.51724138, -0.44827586, -0.37931034,\n",
       "       -0.31034483, -0.24137931, -0.17241379, -0.10344828, -0.03448276,\n",
       "        0.03448276,  0.10344828,  0.17241379,  0.24137931,  0.31034483,\n",
       "        0.37931034,  0.44827586,  0.51724138,  0.5862069 ,  0.65517241,\n",
       "        0.72413793,  0.79310345,  0.86206897,  0.93103448,  1.        ])"
      ]
     },
     "execution_count": 8,
     "metadata": {},
     "output_type": "execute_result"
    }
   ],
   "source": [
    "np.linspace(-1,1,30)"
   ]
  },
  {
   "cell_type": "markdown",
   "metadata": {},
   "source": [
    "soru-8)0 ile 30 arasinda 5x6’lik bir matris olusturun."
   ]
  },
  {
   "cell_type": "code",
   "execution_count": 9,
   "metadata": {},
   "outputs": [
    {
     "data": {
      "text/plain": [
       "array([[23, 27, 14, 28,  5, 18],\n",
       "       [11, 24,  2, 16,  8, 13],\n",
       "       [16,  0, 10,  5,  9,  7],\n",
       "       [13, 18, 27, 26,  0,  5],\n",
       "       [16, 15, 19, 12,  3, 17]])"
      ]
     },
     "execution_count": 9,
     "metadata": {},
     "output_type": "execute_result"
    }
   ],
   "source": [
    "np.random.randint(0,30,(5,6))"
   ]
  },
  {
   "cell_type": "markdown",
   "metadata": {},
   "source": [
    "soru-9)Kosegenleri 1 olan 10x10’luk bir matris olusturunuz."
   ]
  },
  {
   "cell_type": "code",
   "execution_count": 10,
   "metadata": {},
   "outputs": [
    {
     "data": {
      "text/plain": [
       "array([[1., 0., 0., 0., 0., 0., 0., 0., 0., 0.],\n",
       "       [0., 1., 0., 0., 0., 0., 0., 0., 0., 0.],\n",
       "       [0., 0., 1., 0., 0., 0., 0., 0., 0., 0.],\n",
       "       [0., 0., 0., 1., 0., 0., 0., 0., 0., 0.],\n",
       "       [0., 0., 0., 0., 1., 0., 0., 0., 0., 0.],\n",
       "       [0., 0., 0., 0., 0., 1., 0., 0., 0., 0.],\n",
       "       [0., 0., 0., 0., 0., 0., 1., 0., 0., 0.],\n",
       "       [0., 0., 0., 0., 0., 0., 0., 1., 0., 0.],\n",
       "       [0., 0., 0., 0., 0., 0., 0., 0., 1., 0.],\n",
       "       [0., 0., 0., 0., 0., 0., 0., 0., 0., 1.]])"
      ]
     },
     "execution_count": 10,
     "metadata": {},
     "output_type": "execute_result"
    }
   ],
   "source": [
    "np.eye(10)"
   ]
  },
  {
   "cell_type": "markdown",
   "metadata": {},
   "source": [
    "soru-10)\t0 ile 10 arasinda 5x10’lik bir matris olusturun. (integer) ve bu matrisin;\n",
    "      a)\teleman sayisini\n",
    "      b)\tboyut bilgisini/sayisini\n",
    "      c)\tsatir X sutun bilgisini\n",
    "      d)\tveri tipini numpy metodlariyla yazdiriniz.\n"
   ]
  },
  {
   "cell_type": "code",
   "execution_count": 13,
   "metadata": {},
   "outputs": [
    {
     "data": {
      "text/plain": [
       "50"
      ]
     },
     "execution_count": 13,
     "metadata": {},
     "output_type": "execute_result"
    }
   ],
   "source": [
    "k=np.random.randint(0,10,(5,10),dtype = 'int32')\n",
    "k.size"
   ]
  },
  {
   "cell_type": "code",
   "execution_count": 14,
   "metadata": {},
   "outputs": [
    {
     "data": {
      "text/plain": [
       "2"
      ]
     },
     "execution_count": 14,
     "metadata": {},
     "output_type": "execute_result"
    }
   ],
   "source": [
    "k.ndim"
   ]
  },
  {
   "cell_type": "code",
   "execution_count": 15,
   "metadata": {},
   "outputs": [
    {
     "data": {
      "text/plain": [
       "(5, 10)"
      ]
     },
     "execution_count": 15,
     "metadata": {},
     "output_type": "execute_result"
    }
   ],
   "source": [
    "k.shape"
   ]
  },
  {
   "cell_type": "code",
   "execution_count": 16,
   "metadata": {},
   "outputs": [
    {
     "data": {
      "text/plain": [
       "dtype('int32')"
      ]
     },
     "execution_count": 16,
     "metadata": {},
     "output_type": "execute_result"
    }
   ],
   "source": [
    "k.dtype"
   ]
  },
  {
   "cell_type": "markdown",
   "metadata": {},
   "source": [
    "soru-11)0 ile 10 arasindaki degerlerden olusan 3 adet 4x7’lik bir matris olusturunuz. (3 boyutlu bir matris olusturulacak) "
   ]
  },
  {
   "cell_type": "code",
   "execution_count": 17,
   "metadata": {},
   "outputs": [
    {
     "data": {
      "text/plain": [
       "array([[[5, 6, 2, 3, 5, 5, 3],\n",
       "        [0, 1, 2, 0, 8, 1, 3],\n",
       "        [9, 2, 0, 9, 1, 5, 0],\n",
       "        [8, 9, 8, 9, 1, 0, 6]],\n",
       "\n",
       "       [[4, 5, 4, 0, 6, 1, 7],\n",
       "        [9, 2, 9, 5, 4, 6, 7],\n",
       "        [3, 4, 1, 3, 3, 5, 0],\n",
       "        [1, 8, 0, 6, 7, 7, 9]],\n",
       "\n",
       "       [[1, 2, 0, 5, 7, 7, 7],\n",
       "        [9, 2, 2, 8, 3, 9, 8],\n",
       "        [7, 0, 6, 5, 0, 6, 6],\n",
       "        [7, 3, 1, 1, 1, 5, 2]]])"
      ]
     },
     "execution_count": 17,
     "metadata": {},
     "output_type": "execute_result"
    }
   ],
   "source": [
    "np.random.randint(10, size = (3,4,7))"
   ]
  },
  {
   "cell_type": "markdown",
   "metadata": {},
   "source": [
    "soru-12 )Bir vektor olusturunuz ve daha sonrasinda ayni vektoru bir matrise ceviriniz. (boyut sayisini degistirin.)"
   ]
  },
  {
   "cell_type": "code",
   "execution_count": 23,
   "metadata": {},
   "outputs": [],
   "source": [
    "a=np.arange(5,25)"
   ]
  },
  {
   "cell_type": "code",
   "execution_count": 24,
   "metadata": {},
   "outputs": [
    {
     "data": {
      "text/plain": [
       "array([[ 5,  6,  7,  8,  9],\n",
       "       [10, 11, 12, 13, 14],\n",
       "       [15, 16, 17, 18, 19],\n",
       "       [20, 21, 22, 23, 24]])"
      ]
     },
     "execution_count": 24,
     "metadata": {},
     "output_type": "execute_result"
    }
   ],
   "source": [
    "a.reshape(4,5)"
   ]
  },
  {
   "cell_type": "markdown",
   "metadata": {},
   "source": [
    "soru-13 )4 tane ayri tek boyutlu array’i birlestirerek bir array olusturunuz."
   ]
  },
  {
   "cell_type": "code",
   "execution_count": 25,
   "metadata": {},
   "outputs": [],
   "source": [
    "x=np.arange(1,5)\n",
    "y=np.arange(5,10)\n",
    "z=np.arange(10,15)\n",
    "t=np.arange(15,20)"
   ]
  },
  {
   "cell_type": "code",
   "execution_count": 26,
   "metadata": {},
   "outputs": [
    {
     "data": {
      "text/plain": [
       "array([ 1,  2,  3,  4,  5,  6,  7,  8,  9, 10, 11, 12, 13, 14, 15, 16, 17,\n",
       "       18, 19])"
      ]
     },
     "execution_count": 26,
     "metadata": {},
     "output_type": "execute_result"
    }
   ],
   "source": [
    "np.concatenate([x,y,z,t])"
   ]
  },
  {
   "cell_type": "markdown",
   "metadata": {},
   "source": [
    "soru-14 )\t2 boyutlu bir vektor ve bir matris olusturun(ayri ayri), bu iki arrayi numpy metodlarini kullanarak sutun bazli birlestiriniz,"
   ]
  },
  {
   "cell_type": "code",
   "execution_count": 28,
   "metadata": {},
   "outputs": [],
   "source": [
    "h=np.arange(4,6)"
   ]
  },
  {
   "cell_type": "code",
   "execution_count": 35,
   "metadata": {},
   "outputs": [],
   "source": [
    "k=np.random.randint(12,16,(2,2),dtype = 'int32')"
   ]
  },
  {
   "cell_type": "code",
   "execution_count": 32,
   "metadata": {},
   "outputs": [
    {
     "data": {
      "text/plain": [
       "array([4, 5])"
      ]
     },
     "execution_count": 32,
     "metadata": {},
     "output_type": "execute_result"
    }
   ],
   "source": [
    "h"
   ]
  },
  {
   "cell_type": "code",
   "execution_count": 36,
   "metadata": {},
   "outputs": [
    {
     "data": {
      "text/plain": [
       "array([[14, 13],\n",
       "       [15, 15]])"
      ]
     },
     "execution_count": 36,
     "metadata": {},
     "output_type": "execute_result"
    }
   ],
   "source": [
    "k"
   ]
  },
  {
   "cell_type": "code",
   "execution_count": 37,
   "metadata": {},
   "outputs": [
    {
     "data": {
      "text/plain": [
       "array([[ 4,  5],\n",
       "       [14, 13],\n",
       "       [15, 15]])"
      ]
     },
     "execution_count": 37,
     "metadata": {},
     "output_type": "execute_result"
    }
   ],
   "source": [
    "np.vstack([h,k])"
   ]
  },
  {
   "cell_type": "markdown",
   "metadata": {},
   "source": [
    "soru-15 )Numpy’da “axis=1” ve “axis=0”  arasinda ne fark vardir. Teorik olarak yaziniz?  \n",
    "cevap)axis=0 satir olarak birlestirme gibi islemlerde kullanilir axis=1 ise sutun olarak  birlestirme gibi islemlerde kullanilir."
   ]
  },
  {
   "cell_type": "markdown",
   "metadata": {},
   "source": [
    "soru-16 )Farkli boyutlardaki arraylari satin ve sutun bazli ayri ayri birlestiriniz."
   ]
  },
  {
   "cell_type": "code",
   "execution_count": 39,
   "metadata": {},
   "outputs": [],
   "source": [
    "m=np.random.randint(0,6,(2,3),dtype = 'int32')"
   ]
  },
  {
   "cell_type": "code",
   "execution_count": 41,
   "metadata": {},
   "outputs": [],
   "source": [
    "n=np.random.randint(7,11,(2,2),dtype = 'int32')"
   ]
  },
  {
   "cell_type": "code",
   "execution_count": 42,
   "metadata": {},
   "outputs": [],
   "source": [
    "p=np.random.randint(22,31,(3,3),dtype = 'int32')"
   ]
  },
  {
   "cell_type": "code",
   "execution_count": 43,
   "metadata": {},
   "outputs": [
    {
     "data": {
      "text/plain": [
       "array([[ 3,  4,  5, 10,  7],\n",
       "       [ 4,  0,  4,  7,  8]])"
      ]
     },
     "execution_count": 43,
     "metadata": {},
     "output_type": "execute_result"
    }
   ],
   "source": [
    "np.concatenate([m,n], axis = 1)"
   ]
  },
  {
   "cell_type": "code",
   "execution_count": 45,
   "metadata": {},
   "outputs": [
    {
     "data": {
      "text/plain": [
       "array([[ 3,  4,  5],\n",
       "       [ 4,  0,  4],\n",
       "       [29, 23, 26],\n",
       "       [22, 28, 27],\n",
       "       [30, 30, 26]])"
      ]
     },
     "execution_count": 45,
     "metadata": {},
     "output_type": "execute_result"
    }
   ],
   "source": [
    "np.concatenate([m,p], axis = 0)"
   ]
  },
  {
   "cell_type": "markdown",
   "metadata": {},
   "source": [
    "soru-17 )10 elemanli bi liste olusturunuz ve bu listeyi Numpy metodlariyla bolerek(split) 4 ayri array olusturunuz."
   ]
  },
  {
   "cell_type": "code",
   "execution_count": 46,
   "metadata": {},
   "outputs": [],
   "source": [
    "a=[101,102,103,104,105,106,107,108,109,110]"
   ]
  },
  {
   "cell_type": "code",
   "execution_count": 47,
   "metadata": {},
   "outputs": [
    {
     "data": {
      "text/plain": [
       "[array([101, 102, 103]),\n",
       " array([104, 105, 106]),\n",
       " array([107, 108]),\n",
       " array([109, 110])]"
      ]
     },
     "execution_count": 47,
     "metadata": {},
     "output_type": "execute_result"
    }
   ],
   "source": [
    "np.split(a,[3,6,8])"
   ]
  },
  {
   "cell_type": "markdown",
   "metadata": {},
   "source": [
    "soru-18 )Random bir array olusturunuz ve bu arrayi buyukten kucuge dogru siralayiniz.Ve bu siralamadan sonra hangi elemanin hangi indexte oldugunu gosteren bir metod uygulayiniz."
   ]
  },
  {
   "cell_type": "code",
   "execution_count": 2,
   "metadata": {},
   "outputs": [],
   "source": [
    "d=np.random.randint(11,32,(20,),dtype = 'int32')"
   ]
  },
  {
   "cell_type": "code",
   "execution_count": 3,
   "metadata": {},
   "outputs": [
    {
     "data": {
      "text/plain": [
       "array([11, 13, 13, 14, 14, 15, 16, 16, 17, 18, 18, 19, 21, 23, 23, 23, 25,\n",
       "       26, 27, 30])"
      ]
     },
     "execution_count": 3,
     "metadata": {},
     "output_type": "execute_result"
    }
   ],
   "source": [
    "np.sort(d)"
   ]
  },
  {
   "cell_type": "code",
   "execution_count": 5,
   "metadata": {},
   "outputs": [],
   "source": [
    "import numpy as np\n",
    "w=np.sort(d)[::-1]    "
   ]
  },
  {
   "cell_type": "code",
   "execution_count": 7,
   "metadata": {},
   "outputs": [
    {
     "data": {
      "text/plain": [
       "11"
      ]
     },
     "execution_count": 7,
     "metadata": {},
     "output_type": "execute_result"
    }
   ],
   "source": [
    "w[19]"
   ]
  },
  {
   "cell_type": "code",
   "execution_count": 15,
   "metadata": {},
   "outputs": [
    {
     "data": {
      "text/plain": [
       "30"
      ]
     },
     "execution_count": 15,
     "metadata": {},
     "output_type": "execute_result"
    }
   ],
   "source": [
    "w[0]"
   ]
  },
  {
   "cell_type": "markdown",
   "metadata": {},
   "source": [
    "soru-19 )20 elemanli random bir vektor olusturunuz. Bu vektorun 3. 5. ve 7. elemanlarina ulasin"
   ]
  },
  {
   "cell_type": "code",
   "execution_count": 57,
   "metadata": {},
   "outputs": [],
   "source": [
    "g=np.random.randint(0,20,(20,),dtype = 'int32')"
   ]
  },
  {
   "cell_type": "code",
   "execution_count": 58,
   "metadata": {},
   "outputs": [],
   "source": [
    "take_it=[3,5,7]"
   ]
  },
  {
   "cell_type": "code",
   "execution_count": 59,
   "metadata": {},
   "outputs": [
    {
     "data": {
      "text/plain": [
       "array([17,  2,  7])"
      ]
     },
     "execution_count": 59,
     "metadata": {},
     "output_type": "execute_result"
    }
   ],
   "source": [
    "g[take_it]"
   ]
  },
  {
   "cell_type": "markdown",
   "metadata": {},
   "source": [
    "soru-20 )10 elemanli random bir vektor olusturunuz ve bu arrayin  4. elemanini farkli bir sayiyla degistiriniz"
   ]
  },
  {
   "cell_type": "code",
   "execution_count": 60,
   "metadata": {},
   "outputs": [],
   "source": [
    "c=np.random.randint(0,20,(20,),dtype = 'int32')"
   ]
  },
  {
   "cell_type": "code",
   "execution_count": 61,
   "metadata": {},
   "outputs": [
    {
     "data": {
      "text/plain": [
       "array([17, 11,  7,  5, 10, 10,  0, 15, 19,  8,  7, 16, 10,  9, 15, 14, 11,\n",
       "       11,  7,  0])"
      ]
     },
     "execution_count": 61,
     "metadata": {},
     "output_type": "execute_result"
    }
   ],
   "source": [
    "c"
   ]
  },
  {
   "cell_type": "code",
   "execution_count": 62,
   "metadata": {},
   "outputs": [],
   "source": [
    "c[4]=199"
   ]
  },
  {
   "cell_type": "code",
   "execution_count": 63,
   "metadata": {},
   "outputs": [
    {
     "data": {
      "text/plain": [
       "array([ 17,  11,   7,   5, 199,  10,   0,  15,  19,   8,   7,  16,  10,\n",
       "         9,  15,  14,  11,  11,   7,   0])"
      ]
     },
     "execution_count": 63,
     "metadata": {},
     "output_type": "execute_result"
    }
   ],
   "source": [
    "c"
   ]
  },
  {
   "cell_type": "markdown",
   "metadata": {},
   "source": [
    "soru-21) “Diagonal Matrix” ve “Trace Matrix”  kavramlari hakkinda kucuk bir arastirma yapip bunlarin ne oldugunu belirten kucuk bir aciklama yaziniz."
   ]
  },
  {
   "cell_type": "markdown",
   "metadata": {},
   "source": [
    "Bir kare matriste asal köşegen üzerindeki elemanların dışında kalan tüm elemanlar sıfır ise bu matrise diagonal matrix denir.Trace matrix ise bu asal kosegen ustundeki elemanlarin toplamidir."
   ]
  },
  {
   "cell_type": "markdown",
   "metadata": {},
   "source": [
    "soru-22 ) 5x5’lik Diagonal bir matris olusturunuz ve Diagonaline denk gelen indexlere ulasiniz.(ayri ayri)"
   ]
  },
  {
   "cell_type": "code",
   "execution_count": 6,
   "metadata": {},
   "outputs": [],
   "source": [
    "import numpy as np\n",
    "x = np.arange(9).reshape((3,3))"
   ]
  },
  {
   "cell_type": "code",
   "execution_count": 7,
   "metadata": {},
   "outputs": [
    {
     "data": {
      "text/plain": [
       "array([[0, 1, 2],\n",
       "       [3, 4, 5],\n",
       "       [6, 7, 8]])"
      ]
     },
     "execution_count": 7,
     "metadata": {},
     "output_type": "execute_result"
    }
   ],
   "source": [
    "x"
   ]
  },
  {
   "cell_type": "code",
   "execution_count": 8,
   "metadata": {},
   "outputs": [
    {
     "data": {
      "text/plain": [
       "array([0, 4, 8])"
      ]
     },
     "execution_count": 8,
     "metadata": {},
     "output_type": "execute_result"
    }
   ],
   "source": [
    "np.diag(x)"
   ]
  },
  {
   "cell_type": "code",
   "execution_count": 9,
   "metadata": {},
   "outputs": [
    {
     "data": {
      "text/plain": [
       "array([[0, 0, 0],\n",
       "       [0, 4, 0],\n",
       "       [0, 0, 8]])"
      ]
     },
     "execution_count": 9,
     "metadata": {},
     "output_type": "execute_result"
    }
   ],
   "source": [
    "np.diag(np.diag(x))"
   ]
  },
  {
   "cell_type": "code",
   "execution_count": 11,
   "metadata": {},
   "outputs": [
    {
     "data": {
      "text/plain": [
       "0"
      ]
     },
     "execution_count": 11,
     "metadata": {},
     "output_type": "execute_result"
    }
   ],
   "source": [
    "np.diag(np.diag(x))[0,0]"
   ]
  },
  {
   "cell_type": "code",
   "execution_count": 12,
   "metadata": {},
   "outputs": [
    {
     "data": {
      "text/plain": [
       "4"
      ]
     },
     "execution_count": 12,
     "metadata": {},
     "output_type": "execute_result"
    }
   ],
   "source": [
    "np.diag(np.diag(x))[1,1]"
   ]
  },
  {
   "cell_type": "code",
   "execution_count": 13,
   "metadata": {},
   "outputs": [
    {
     "data": {
      "text/plain": [
       "8"
      ]
     },
     "execution_count": 13,
     "metadata": {},
     "output_type": "execute_result"
    }
   ],
   "source": [
    "np.diag(np.diag(x))[2,2]"
   ]
  },
  {
   "cell_type": "markdown",
   "metadata": {},
   "source": [
    "soru-23) 10 ile 20 arasinda bir vektor olusturunuz. Ve 3. indexten son indexe kadar olan degerleri yazdiriniz."
   ]
  },
  {
   "cell_type": "code",
   "execution_count": 65,
   "metadata": {},
   "outputs": [],
   "source": [
    "r=np.random.randint(0,20,(10,),dtype = 'int32')"
   ]
  },
  {
   "cell_type": "code",
   "execution_count": 66,
   "metadata": {},
   "outputs": [
    {
     "data": {
      "text/plain": [
       "array([15, 17,  7,  1,  8, 19, 15, 10,  4, 17,  7,  7, 11, 12, 17, 11,  8,\n",
       "        2, 12,  7])"
      ]
     },
     "execution_count": 66,
     "metadata": {},
     "output_type": "execute_result"
    }
   ],
   "source": [
    "r"
   ]
  },
  {
   "cell_type": "code",
   "execution_count": 67,
   "metadata": {},
   "outputs": [
    {
     "data": {
      "text/plain": [
       "array([ 1,  8, 19, 15, 10,  4, 17,  7,  7, 11, 12, 17, 11,  8,  2, 12,  7])"
      ]
     },
     "execution_count": 67,
     "metadata": {},
     "output_type": "execute_result"
    }
   ],
   "source": [
    "r[3:]"
   ]
  },
  {
   "cell_type": "markdown",
   "metadata": {},
   "source": [
    "soru-24 )10X10 luk bir matris olusturunuz ve ;\n",
    " .\t3.satir ve 5.sutuna ulasiniz.\n",
    "a)5.sutunun tum satirlarina ulasiniz.\n",
    "b)Tum sutunlarin 2.satirlarina ulasiniz.\n",
    "c)tum sutunlarin 2 ile 7 arasindaki satirlarina ulasiniz.\n",
    "d)satir indexi 2’den 5’e ve sutun indexi 3 den 7’ye kadar olan degerlere ulasiniz.\n",
    "e)satir indexi 5’den en sona ve sutun indexi en bastan 4’e kadar olan degerlere ulasiniz.\n",
    "f)sutun indexi sadece 3, 6,9 olan kolonlarin(sutunlarin), tum satirlarina ulasiniz.\n",
    "g)5. indexli satir ve 5.indexli sutuna denk gelen degeri, dogum yilinizla degistiriniz. \n",
    "\n"
   ]
  },
  {
   "cell_type": "code",
   "execution_count": 68,
   "metadata": {},
   "outputs": [],
   "source": [
    "f=np.random.randint(0,100,(10,10),dtype = 'int32')"
   ]
  },
  {
   "cell_type": "code",
   "execution_count": 69,
   "metadata": {},
   "outputs": [
    {
     "data": {
      "text/plain": [
       "array([[30, 22, 49,  8, 47, 88, 64, 54,  6, 10],\n",
       "       [ 8, 12, 63, 35, 60, 79, 47, 52,  2,  8],\n",
       "       [81, 75, 83,  0, 54, 75, 53, 13, 59, 94],\n",
       "       [60,  6, 61, 86,  3, 95, 47, 25, 24,  2],\n",
       "       [ 7, 93, 85,  7, 90, 85, 36, 83, 38, 17],\n",
       "       [39, 67, 80, 12, 64, 88, 18, 43, 78, 27],\n",
       "       [90, 67, 52, 10,  2, 40, 36, 68, 44, 67],\n",
       "       [96, 26, 27, 74, 60, 71, 19, 26, 65, 93],\n",
       "       [ 2, 96, 20, 82, 81, 92, 50, 26, 74, 55],\n",
       "       [36, 58,  6, 89,  9, 41, 75, 43, 80, 72]])"
      ]
     },
     "execution_count": 69,
     "metadata": {},
     "output_type": "execute_result"
    }
   ],
   "source": [
    "f"
   ]
  },
  {
   "cell_type": "code",
   "execution_count": 73,
   "metadata": {},
   "outputs": [
    {
     "data": {
      "text/plain": [
       "54"
      ]
     },
     "execution_count": 73,
     "metadata": {},
     "output_type": "execute_result"
    }
   ],
   "source": [
    "f[2,4]  "
   ]
  },
  {
   "cell_type": "code",
   "execution_count": 74,
   "metadata": {},
   "outputs": [
    {
     "data": {
      "text/plain": [
       "array([47, 60, 54,  3, 90, 64,  2, 60, 81,  9])"
      ]
     },
     "execution_count": 74,
     "metadata": {},
     "output_type": "execute_result"
    }
   ],
   "source": [
    "f[:,4]"
   ]
  },
  {
   "cell_type": "code",
   "execution_count": 75,
   "metadata": {},
   "outputs": [
    {
     "data": {
      "text/plain": [
       "array([ 8, 12, 63, 35, 60, 79, 47, 52,  2,  8])"
      ]
     },
     "execution_count": 75,
     "metadata": {},
     "output_type": "execute_result"
    }
   ],
   "source": [
    "f[1,:]"
   ]
  },
  {
   "cell_type": "code",
   "execution_count": 76,
   "metadata": {},
   "outputs": [
    {
     "data": {
      "text/plain": [
       "array([[81, 75, 83,  0, 54, 75, 53, 13, 59, 94],\n",
       "       [60,  6, 61, 86,  3, 95, 47, 25, 24,  2],\n",
       "       [ 7, 93, 85,  7, 90, 85, 36, 83, 38, 17],\n",
       "       [39, 67, 80, 12, 64, 88, 18, 43, 78, 27],\n",
       "       [90, 67, 52, 10,  2, 40, 36, 68, 44, 67]])"
      ]
     },
     "execution_count": 76,
     "metadata": {},
     "output_type": "execute_result"
    }
   ],
   "source": [
    "f[2:7,:]"
   ]
  },
  {
   "cell_type": "code",
   "execution_count": 77,
   "metadata": {},
   "outputs": [
    {
     "data": {
      "text/plain": [
       "array([[ 0, 54, 75, 53],\n",
       "       [86,  3, 95, 47],\n",
       "       [ 7, 90, 85, 36]])"
      ]
     },
     "execution_count": 77,
     "metadata": {},
     "output_type": "execute_result"
    }
   ],
   "source": [
    "f[2:5,3:7]"
   ]
  },
  {
   "cell_type": "code",
   "execution_count": 78,
   "metadata": {},
   "outputs": [
    {
     "data": {
      "text/plain": [
       "array([[39, 67, 80, 12],\n",
       "       [90, 67, 52, 10],\n",
       "       [96, 26, 27, 74],\n",
       "       [ 2, 96, 20, 82],\n",
       "       [36, 58,  6, 89]])"
      ]
     },
     "execution_count": 78,
     "metadata": {},
     "output_type": "execute_result"
    }
   ],
   "source": [
    "f[5:,:4]"
   ]
  },
  {
   "cell_type": "code",
   "execution_count": 81,
   "metadata": {},
   "outputs": [
    {
     "data": {
      "text/plain": [
       "array([[ 8, 64, 10],\n",
       "       [35, 47,  8],\n",
       "       [ 0, 53, 94],\n",
       "       [86, 47,  2],\n",
       "       [ 7, 36, 17],\n",
       "       [12, 18, 27],\n",
       "       [10, 36, 67],\n",
       "       [74, 19, 93],\n",
       "       [82, 50, 55],\n",
       "       [89, 75, 72]])"
      ]
     },
     "execution_count": 81,
     "metadata": {},
     "output_type": "execute_result"
    }
   ],
   "source": [
    "f[:,3::3]"
   ]
  },
  {
   "cell_type": "code",
   "execution_count": 83,
   "metadata": {},
   "outputs": [],
   "source": [
    "f[5,5]=1988"
   ]
  },
  {
   "cell_type": "code",
   "execution_count": 84,
   "metadata": {},
   "outputs": [
    {
     "data": {
      "text/plain": [
       "array([[  30,   22,   49,    8,   47,   88,   64,   54,    6,   10],\n",
       "       [   8,   12,   63,   35,   60,   79,   47,   52,    2,    8],\n",
       "       [  81,   75,   83,    0,   54,   75,   53,   13,   59,   94],\n",
       "       [  60,    6,   61,   86,    3,   95,   47,   25,   24,    2],\n",
       "       [   7,   93,   85,    7,   90,   85,   36,   83,   38,   17],\n",
       "       [  39,   67,   80,   12,   64, 1988,   18,   43,   78,   27],\n",
       "       [  90,   67,   52,   10,    2,   40,   36,   68,   44,   67],\n",
       "       [  96,   26,   27,   74,   60,   71,   19,   26,   65,   93],\n",
       "       [   2,   96,   20,   82,   81,   92,   50,   26,   74,   55],\n",
       "       [  36,   58,    6,   89,    9,   41,   75,   43,   80,   72]])"
      ]
     },
     "execution_count": 84,
     "metadata": {},
     "output_type": "execute_result"
    }
   ],
   "source": [
    "f"
   ]
  },
  {
   "cell_type": "markdown",
   "metadata": {},
   "source": [
    "soru-25 ) 0’dan 50’ye kadar 5’er 5’er atlayarak giden bir array olusturunuz(tek boyutlu) ve numpy metodlariyla asagidaki islemleri uygulayin;\n",
    "20 den buyuk olan kac deger var.\n",
    "a)30’dan kucuk kac deger var\n",
    "b)icerisinde 33 gecen kac deger var\n",
    "c)olusturulan arrayin tum elemanlarini 5 ile carpin.\n",
    "d)olusturulan arrayin tum elemanlarinin 2 ile bolumunden kalanlari yazdiriniz.\n",
    "\n"
   ]
  },
  {
   "cell_type": "code",
   "execution_count": 89,
   "metadata": {},
   "outputs": [],
   "source": [
    "q=np.arange(0,50,5)"
   ]
  },
  {
   "cell_type": "code",
   "execution_count": 90,
   "metadata": {},
   "outputs": [
    {
     "data": {
      "text/plain": [
       "5"
      ]
     },
     "execution_count": 90,
     "metadata": {},
     "output_type": "execute_result"
    }
   ],
   "source": [
    "np.sum(q>20)"
   ]
  },
  {
   "cell_type": "code",
   "execution_count": 91,
   "metadata": {},
   "outputs": [
    {
     "data": {
      "text/plain": [
       "6"
      ]
     },
     "execution_count": 91,
     "metadata": {},
     "output_type": "execute_result"
    }
   ],
   "source": [
    "np.sum(q<30)"
   ]
  },
  {
   "cell_type": "code",
   "execution_count": 92,
   "metadata": {},
   "outputs": [
    {
     "data": {
      "text/plain": [
       "0"
      ]
     },
     "execution_count": 92,
     "metadata": {},
     "output_type": "execute_result"
    }
   ],
   "source": [
    "np.sum(q==33)"
   ]
  },
  {
   "cell_type": "code",
   "execution_count": 93,
   "metadata": {},
   "outputs": [
    {
     "data": {
      "text/plain": [
       "array([  0,  25,  50,  75, 100, 125, 150, 175, 200, 225])"
      ]
     },
     "execution_count": 93,
     "metadata": {},
     "output_type": "execute_result"
    }
   ],
   "source": [
    "5*q"
   ]
  },
  {
   "cell_type": "code",
   "execution_count": 94,
   "metadata": {},
   "outputs": [
    {
     "data": {
      "text/plain": [
       "array([0, 1, 0, 1, 0, 1, 0, 1, 0, 1], dtype=int32)"
      ]
     },
     "execution_count": 94,
     "metadata": {},
     "output_type": "execute_result"
    }
   ],
   "source": [
    "q%2"
   ]
  },
  {
   "cell_type": "markdown",
   "metadata": {},
   "source": [
    "soru-26 ) 0 ile 1 arasinda 50 elamanli bir array olusturunuz ve;\n",
    " .orlamasini aliniz.\n",
    "a)standart sapmasini aliniz.\n",
    "b)varyansini aliniz.\n",
    "c)median’ini aliniz.\n",
    "d)en kucuk degeri bulunuz.\n",
    "e)en buyuk degeri bulunuz.\n",
    "\n"
   ]
  },
  {
   "cell_type": "code",
   "execution_count": 95,
   "metadata": {},
   "outputs": [],
   "source": [
    "u = np.random.normal(0, 1, 50)"
   ]
  },
  {
   "cell_type": "code",
   "execution_count": 96,
   "metadata": {},
   "outputs": [
    {
     "data": {
      "text/plain": [
       "0.07662041637150269"
      ]
     },
     "execution_count": 96,
     "metadata": {},
     "output_type": "execute_result"
    }
   ],
   "source": [
    "np.mean(u)"
   ]
  },
  {
   "cell_type": "code",
   "execution_count": 97,
   "metadata": {},
   "outputs": [
    {
     "data": {
      "text/plain": [
       "0.934444290819167"
      ]
     },
     "execution_count": 97,
     "metadata": {},
     "output_type": "execute_result"
    }
   ],
   "source": [
    "np.std(u)"
   ]
  },
  {
   "cell_type": "code",
   "execution_count": 98,
   "metadata": {},
   "outputs": [
    {
     "data": {
      "text/plain": [
       "0.8731861326445359"
      ]
     },
     "execution_count": 98,
     "metadata": {},
     "output_type": "execute_result"
    }
   ],
   "source": [
    "np.var(u)"
   ]
  },
  {
   "cell_type": "code",
   "execution_count": 99,
   "metadata": {},
   "outputs": [
    {
     "data": {
      "text/plain": [
       "0.16173813294001432"
      ]
     },
     "execution_count": 99,
     "metadata": {},
     "output_type": "execute_result"
    }
   ],
   "source": [
    "np.median(u)"
   ]
  },
  {
   "cell_type": "code",
   "execution_count": 100,
   "metadata": {},
   "outputs": [
    {
     "data": {
      "text/plain": [
       "-2.1722298528197475"
      ]
     },
     "execution_count": 100,
     "metadata": {},
     "output_type": "execute_result"
    }
   ],
   "source": [
    "np.min(u)"
   ]
  },
  {
   "cell_type": "code",
   "execution_count": 101,
   "metadata": {},
   "outputs": [
    {
     "data": {
      "text/plain": [
       "2.1945053131423307"
      ]
     },
     "execution_count": 101,
     "metadata": {},
     "output_type": "execute_result"
    }
   ],
   "source": [
    "np.max(u)"
   ]
  },
  {
   "cell_type": "markdown",
   "metadata": {},
   "source": [
    "Master odev ; \n",
    "Bir dongu icerisinde random olacak sekilde iki tane 20x20’luk matris uretin ve bu matrislerin farklarini alin.\n",
    "Ve fark matrisinin diagonali,  -0.1 ile 0.1  arasinda olana kadar bu islemi tekrarlayin.\n",
    "Istenilen matris bulundugunda program dursun ve  toplam kac dongunun kuruldugunu,  ne kadar sure icinde buldugunu ve  istenilen  matrisi  print ile birlikte ekrana yazdiriniz...\n",
    "Tavsiye: 20 x 20 luk matrisin bulunmasi saatler surebilir. Bu yuzden algoritmanizin dogrulugunu test etmek icin once 4x4, 5x5 gibi kucuk matrislerde deneyebilirsiniz. Ve matris sayisisini arttirarak en son 20x20 u deneyebilirsiniz.\n",
    "Matris uretme islemini np.random.random((axb)) fonksiyonu ile yapabilirsiniz.(size kalmis) 1:30\n",
    "Cuma aksamina kadar odevlerin hepsini gondermenizi rica ediyorum.\n",
    "Ayrica, matris odevinin ekran goruntusunu yada ekran videosunu gruba atmanizi istiyorum. Deneme matrislerini de gonderebilirsiniz. Hepinize kolay gelsin. \n"
   ]
  },
  {
   "cell_type": "code",
   "execution_count": 22,
   "metadata": {},
   "outputs": [
    {
     "name": "stdout",
     "output_type": "stream",
     "text": [
      "0.03199172019958496 is total time\n",
      "1886 loops \n",
      "\n",
      "[[-0.06048031  0.19605342  0.24180369  0.57789229]\n",
      " [-0.14282596 -0.01657879  0.25317407  0.14881658]\n",
      " [ 0.88756516 -0.47451778  0.00810276  0.46186633]\n",
      " [ 0.4957812   0.21777551 -0.22795003 -0.04483722]] ---->is my matrix which we want to find \n",
      "\n",
      "[-0.06048031 -0.01657879  0.00810276 -0.04483722] ---->is my diagonal which we want to find\n"
     ]
    }
   ],
   "source": [
    "import numpy as np\n",
    "import time\n",
    "time1=time.time()\n",
    "k=0\n",
    "while True:\n",
    "    x=np.random.random((4,4))\n",
    "    y=np.random.random((4,4))\n",
    "    z=x-y\n",
    "    d=np.array([z[0,0],z[1,1],z[2,2],z[3,3]])\n",
    "    k+=1\n",
    "    if np.all((-0.1<d)&(d<0.1)):\n",
    "        break\n",
    "time2=time.time()\n",
    "print(time2-time1,\"is total time\")\n",
    "print(k,\"loops\",\"\\n\")\n",
    "print(z,\"---->is my matrix which we want to find\",\"\\n\")\n",
    "print(d,\"---->is my diagonal which we want to find\")"
   ]
  },
  {
   "cell_type": "code",
   "execution_count": 11,
   "metadata": {},
   "outputs": [
    {
     "name": "stdout",
     "output_type": "stream",
     "text": [
      "34.40997791290283 is total time\n",
      "2054398 loops \n",
      "\n",
      "[[-1.00064636e-03 -4.40937285e-03 -2.72239040e-01 -3.93158149e-01\n",
      "  -1.38131623e-01  4.28759792e-01  7.74352063e-02  3.51623901e-01\n",
      "  -1.83570829e-01 -1.86576360e-01]\n",
      " [-1.73280984e-01  5.35003738e-02 -4.52431493e-01  6.24856915e-01\n",
      "   4.73450523e-01  4.56823642e-02  1.26326407e-01 -5.71687614e-01\n",
      "   7.13465379e-01 -2.10355847e-02]\n",
      " [ 7.27647788e-01  1.51960089e-01  1.38369002e-02  5.48854229e-01\n",
      "  -1.78955934e-02  4.58773687e-01 -7.54241343e-01 -6.03919882e-01\n",
      "   2.90601880e-01 -1.59990789e-01]\n",
      " [ 3.48147727e-01  6.30974114e-01 -1.55881310e-01 -3.81703237e-02\n",
      "   7.49997698e-01 -3.74420125e-01  6.85342154e-01 -2.65958945e-01\n",
      "  -4.36354789e-01  1.61804080e-01]\n",
      " [-4.53473360e-01  5.42698303e-01 -3.15964438e-02  6.63908875e-01\n",
      "   1.50920037e-02  6.79571714e-01  4.62691722e-01  2.62056986e-01\n",
      "  -5.11606288e-01 -3.68707887e-01]\n",
      " [-5.08838034e-02  5.20316416e-01 -1.60253799e-01 -2.94208827e-01\n",
      "  -3.91538562e-01 -8.32187825e-02 -9.19591458e-01  7.71369829e-04\n",
      "   2.49723001e-01  1.31531507e-01]\n",
      " [-2.28278937e-01 -1.00756828e-01  4.75574875e-01  1.59698042e-01\n",
      "  -6.24454973e-01 -8.13515970e-01  9.11242399e-02 -1.60576364e-01\n",
      "  -5.04416517e-01 -2.62528522e-01]\n",
      " [-3.38698398e-02 -7.55216410e-01 -2.19310173e-01  4.06763228e-01\n",
      "  -4.07655069e-01 -4.98933029e-01  2.26149365e-01  8.73574708e-02\n",
      "  -3.77341330e-02 -2.10992411e-01]\n",
      " [-5.18931055e-01  5.71240517e-02  2.35725718e-01 -1.26095215e-01\n",
      "  -2.40025528e-01 -3.73944107e-01 -5.30558147e-01 -5.49247301e-01\n",
      "  -2.77098778e-02 -1.48313566e-01]\n",
      " [ 2.15759532e-01 -9.49669189e-01  1.74649657e-01  4.19810131e-01\n",
      "  -3.89601596e-01 -1.41451008e-01 -4.85373792e-01 -5.36010809e-01\n",
      "   4.46504750e-01  6.01934641e-02]] ---->is my matrix which we want to find \n",
      "\n",
      "[-0.00100065  0.05350037  0.0138369  -0.03817032  0.015092   -0.08321878\n",
      "  0.09112424  0.08735747 -0.02770988  0.06019346] ---->is my diagonal which we want to find\n"
     ]
    }
   ],
   "source": [
    "import numpy as np\n",
    "import time\n",
    "time1=time.time()\n",
    "k=0\n",
    "while True:\n",
    "    x=np.random.random((10,10))\n",
    "    y=np.random.random((10,10))\n",
    "    z=x-y\n",
    "    d=np.array([z[0,0],z[1,1],z[2,2],z[3,3],z[4,4],z[5,5],z[6,6],z[7,7],z[8,8],z[9,9]])\n",
    "    k+=1\n",
    "    if np.all((-0.1<d)&(d<0.1)):\n",
    "        break\n",
    "time2=time.time()\n",
    "print(time2-time1,\"is total time\")\n",
    "print(k,\"loops\",\"\\n\")\n",
    "print(z,\"---->is my matrix which we want to find\",\"\\n\")\n",
    "print(d,\"---->is my diagonal which we want to find\")"
   ]
  },
  {
   "cell_type": "code",
   "execution_count": null,
   "metadata": {},
   "outputs": [],
   "source": [
    "import numpy as np\n",
    "import time\n",
    "time1=time.time()\n",
    "k=0\n",
    "while True:\n",
    "    x=np.random.random((20,20))\n",
    "    y=np.random.random((20,20))\n",
    "    z=x-y\n",
    "    d=np.array([z[0,0],z[1,1],z[2,2],z[3,3],z[4,4],z[5,5],z[6,6],z[7,7],z[8,8],z[9,9],z[10,10],z[11,11],z[12,12],z[13,13],z[14,14],\n",
    "                z[15,15],z[16,16],z[17,17],z[18,18],z[19,19]])\n",
    "    k+=1\n",
    "    if np.all((-0.1<d)&(d<0.1)):\n",
    "        break\n",
    "time2=time.time()\n",
    "print(time2-time1,\"is total time\")\n",
    "print(k,\"loops\",\"\\n\")\n",
    "print(z,\"---->is my matrix which we want to find\",\"\\n\")\n",
    "print(d,\"---->is my diagonal which we want to find\")"
   ]
  },
  {
   "cell_type": "code",
   "execution_count": null,
   "metadata": {},
   "outputs": [],
   "source": []
  },
  {
   "cell_type": "code",
   "execution_count": null,
   "metadata": {},
   "outputs": [],
   "source": []
  },
  {
   "cell_type": "code",
   "execution_count": null,
   "metadata": {},
   "outputs": [],
   "source": []
  },
  {
   "cell_type": "code",
   "execution_count": null,
   "metadata": {},
   "outputs": [],
   "source": []
  }
 ],
 "metadata": {
  "kernelspec": {
   "display_name": "Python 3",
   "language": "python",
   "name": "python3"
  },
  "language_info": {
   "codemirror_mode": {
    "name": "ipython",
    "version": 3
   },
   "file_extension": ".py",
   "mimetype": "text/x-python",
   "name": "python",
   "nbconvert_exporter": "python",
   "pygments_lexer": "ipython3",
   "version": "3.7.4"
  }
 },
 "nbformat": 4,
 "nbformat_minor": 2
}
